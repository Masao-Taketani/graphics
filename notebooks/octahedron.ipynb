{
 "cells": [
  {
   "cell_type": "code",
   "execution_count": 1,
   "id": "0f802f90",
   "metadata": {},
   "outputs": [
    {
     "name": "stdout",
     "output_type": "stream",
     "text": [
      "pygame 2.0.1 (SDL 2.0.14, Python 3.8.11)\n",
      "Hello from the pygame community. https://www.pygame.org/contribute.html\n"
     ]
    }
   ],
   "source": [
    "import pygame\n",
    "from pygame.locals import *\n",
    "from OpenGL.GL import *\n",
    "from OpenGL.GLU import *\n",
    "import matplotlib.cm\n",
    "import sys\n",
    "sys.path.append(\"..\")\n",
    "from utils.vector_utils import *"
   ]
  },
  {
   "cell_type": "code",
   "execution_count": 2,
   "id": "1e7142ad",
   "metadata": {},
   "outputs": [
    {
     "data": {
      "image/png": "[encoded data removed]",
      "text/html": [
       "<div style=\"vertical-align: middle;\"><strong>Blues</strong> </div><div class=\"cmap\"><img alt=\"Blues colormap\" title=\"Blues\" style=\"border: 1px solid #555;\" src=\"data:image/png;base64,iVBORw0KGgoAAAANSUhEUgAAAgAAAABACAYAAABsv8+/AAAAFHRFWHRUaXRsZQBCbHVlcyBjb2xvcm1hcIbbCAEAAAAadEVYdERlc2NyaXB0aW9uAEJsdWVzIGNvbG9ybWFweISh5wAAADB0RVh0QXV0aG9yAE1hdHBsb3RsaWIgdjMuNC4zLCBodHRwczovL21hdHBsb3RsaWIub3JnCV3z0wAAADJ0RVh0U29mdHdhcmUATWF0cGxvdGxpYiB2My40LjMsIGh0dHBzOi8vbWF0cGxvdGxpYi5vcmcn+2z0AAAB00lEQVR4nO3WwU7rMAAAQcP//y8HpIQDJQi3Vopa3uHtzCVynDhxCdK+vL3v+xhj7J+HcTmMy+E4P47x7fnjqgfnp8ct57/Xe2z+3v397/Pz77ON+XvYfze/OP81vn/+9ntuV+89z6/2d1l/Hh/X397fdhwX+5zWOV3/5Pz8HqfXLe9fvN/8+yzuv/p7zPNX+zj5Ts6et1pvsY9717v6bk72cz4+2df2rOf87rmPr/vzH281f+91z1rnr5439u3rhp/jbRqvrnv6+F8953P8OgCAHAEAAEECAACCBAAABAkAAAgSAAAQJAAAIEgAAECQAACAIAEAAEECAACCBAAABAkAAAgSAAAQJAAAIEgAAECQAACAIAEAAEECAACCBAAABAkAAAgSAAAQJAAAIEgAAECQAACAIAEAAEECAACCBAAABAkAAAgSAAAQJAAAIEgAAECQAACAIAEAAEECAACCBAAABAkAAAgSAAAQJAAAIEgAAECQAACAIAEAAEECAACCBAAABAkAAAgSAAAQJAAAIEgAAECQAACAIAEAAEECAACCBAAABAkAAAgSAAAQJAAAIEgAAECQAACAIAEAAEECAACCBAAABAkAAAgSAAAQJAAAIOgDfCcYQIPsTRMAAAAASUVORK5CYII=\"></div><div style=\"vertical-align: middle; max-width: 514px; display: flex; justify-content: space-between;\"><div style=\"float: left;\"><div title=\"#f7fbffff\" style=\"display: inline-block; width: 1em; height: 1em; margin: 0; vertical-align: middle; border: 1px solid #555; background-color: #f7fbffff;\"></div> under</div><div style=\"margin: 0 auto; display: inline-block;\">bad <div title=\"#00000000\" style=\"display: inline-block; width: 1em; height: 1em; margin: 0; vertical-align: middle; border: 1px solid #555; background-color: #00000000;\"></div></div><div style=\"float: right;\">over <div title=\"#08306bff\" style=\"display: inline-block; width: 1em; height: 1em; margin: 0; vertical-align: middle; border: 1px solid #555; background-color: #08306bff;\"></div></div>"
      ],
      "text/plain": [
       "<matplotlib.colors.LinearSegmentedColormap at 0x7f01058f9880>"
      ]
     },
     "execution_count": 2,
     "metadata": {},
     "output_type": "execute_result"
    }
   ],
   "source": [
    "light = (1,2,3)\n",
    "faces = [\n",
    "    [(1,0,0), (0,1,0), (0,0,1)],\n",
    "    [(1,0,0), (0,0,-1), (0,1,0)],\n",
    "    [(1,0,0), (0,0,1), (0,-1,0)],\n",
    "    [(1,0,0), (0,-1,0), (0,0,-1)],\n",
    "    [(-1,0,0), (0,0,1), (0,1,0)],\n",
    "    [(-1,0,0), (0,1,0), (0,0,-1)],\n",
    "    [(-1,0,0), (0,-1,0), (0,0,1)],\n",
    "    [(-1,0,0), (0,0,-1), (0,-1,0)],\n",
    "]\n",
    "\n",
    "blues = matplotlib.cm.get_cmap('Blues')\n",
    "blues"
   ]
  },
  {
   "cell_type": "code",
   "execution_count": 3,
   "id": "a2d90dc4",
   "metadata": {},
   "outputs": [],
   "source": [
    "def normal(face):\n",
    "    v1, v2, v3 = face\n",
    "    return (cross(subtract(v2, v1), subtract(v3, v1)))\n",
    "\n",
    "def shade(face, color_map=blues, light=light):\n",
    "    vectors_similarity = dot(unit(normal(face)), unit(light))\n",
    "    return color_map(1 - vectors_similarity)"
   ]
  },
  {
   "cell_type": "code",
   "execution_count": 4,
   "id": "937a036e",
   "metadata": {},
   "outputs": [
    {
     "ename": "error",
     "evalue": "video system not initialized",
     "output_type": "error",
     "traceback": [
      "\u001b[0;31m---------------------------------------------------------------------------\u001b[0m",
      "\u001b[0;31merror\u001b[0m                                     Traceback (most recent call last)",
      "\u001b[0;32m/tmp/ipykernel_10177/3160033310.py\u001b[0m in \u001b[0;36m<module>\u001b[0;34m\u001b[0m\n\u001b[1;32m     29\u001b[0m             \u001b[0mglVertex3fv\u001b[0m\u001b[0;34m(\u001b[0m\u001b[0mvertex\u001b[0m\u001b[0;34m)\u001b[0m\u001b[0;34m\u001b[0m\u001b[0;34m\u001b[0m\u001b[0m\n\u001b[1;32m     30\u001b[0m     \u001b[0mglEnd\u001b[0m\u001b[0;34m(\u001b[0m\u001b[0;34m)\u001b[0m\u001b[0;34m\u001b[0m\u001b[0;34m\u001b[0m\u001b[0m\n\u001b[0;32m---> 31\u001b[0;31m     \u001b[0mpygame\u001b[0m\u001b[0;34m.\u001b[0m\u001b[0mdisplay\u001b[0m\u001b[0;34m.\u001b[0m\u001b[0mflip\u001b[0m\u001b[0;34m(\u001b[0m\u001b[0;34m)\u001b[0m\u001b[0;34m\u001b[0m\u001b[0;34m\u001b[0m\u001b[0m\n\u001b[0m",
      "\u001b[0;31merror\u001b[0m: video system not initialized"
     ]
    }
   ],
   "source": [
    "pygame.init()\n",
    "display = (400, 400)\n",
    "window = pygame.display.set_mode(display, DOUBLEBUF|OPENGL)\n",
    "\n",
    "gluPerspective(45, 1, 0.1, 50.0)\n",
    "glTranslatef(0.0,0.0, -5)\n",
    "#glRotatef(30, 0, 1, 1)\n",
    "glEnable(GL_CULL_FACE)\n",
    "glEnable(GL_DEPTH_TEST)\n",
    "glCullFace(GL_BACK)\n",
    "\n",
    "clock = pygame.time.Clock()\n",
    "while True:\n",
    "    for event in pygame.event.get():\n",
    "        if event.type == pygame.QUIT:\n",
    "            pygame.quit()\n",
    "            quit()\n",
    "    \n",
    "    rotate_angle_per_second = 360. / 5\n",
    "    rotate_angle_per_millisecond = rotate_angle_per_second / 1000\n",
    "    milliseconds = clock.tick()\n",
    "    glClear(GL_COLOR_BUFFER_BIT | GL_DEPTH_BUFFER_BIT)\n",
    "    glRotatef(milliseconds * rotate_angle_per_millisecond, 1, 1, 1)\n",
    "    glBegin(GL_TRIANGLES)\n",
    "    for face in faces:\n",
    "        color = shade(face, blues, light)\n",
    "        for vertex in face:\n",
    "            glColor3fv((color[0], color[1], color[2]))\n",
    "            glVertex3fv(vertex)\n",
    "    glEnd()\n",
    "    pygame.display.flip()"
   ]
  },
  {
   "cell_type": "code",
   "execution_count": null,
   "id": "30cc3be1",
   "metadata": {},
   "outputs": [],
   "source": []
  }
 ],
 "metadata": {
  "kernelspec": {
   "display_name": "Python 3 (ipykernel)",
   "language": "python",
   "name": "python3"
  },
  "language_info": {
   "codemirror_mode": {
    "name": "ipython",
    "version": 3
   },
   "file_extension": ".py",
   "mimetype": "text/x-python",
   "name": "python",
   "nbconvert_exporter": "python",
   "pygments_lexer": "ipython3",
   "version": "3.8.11"
  }
 },
 "nbformat": 4,
 "nbformat_minor": 5
}
