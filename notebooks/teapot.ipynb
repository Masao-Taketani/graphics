{
 "cells": [
  {
   "cell_type": "code",
   "execution_count": 1,
   "id": "eab3389c",
   "metadata": {},
   "outputs": [
    {
     "name": "stdout",
     "output_type": "stream",
     "text": [
      "pygame 2.0.1 (SDL 2.0.14, Python 3.8.11)\n",
      "Hello from the pygame community. https://www.pygame.org/contribute.html\n"
     ]
    }
   ],
   "source": [
    "import sys\n",
    "sys.path.append('..')\n",
    "from utils.teapot import load_triangles\n",
    "from utils.draw_model import draw_model"
   ]
  },
  {
   "cell_type": "code",
   "execution_count": null,
   "id": "38dd7c30",
   "metadata": {},
   "outputs": [],
   "source": [
    "draw_model(load_triangles())"
   ]
  },
  {
   "cell_type": "code",
   "execution_count": null,
   "id": "62b22195",
   "metadata": {},
   "outputs": [],
   "source": []
  }
 ],
 "metadata": {
  "kernelspec": {
   "display_name": "Python 3 (ipykernel)",
   "language": "python",
   "name": "python3"
  },
  "language_info": {
   "codemirror_mode": {
    "name": "ipython",
    "version": 3
   },
   "file_extension": ".py",
   "mimetype": "text/x-python",
   "name": "python",
   "nbconvert_exporter": "python",
   "pygments_lexer": "ipython3",
   "version": "3.8.11"
  }
 },
 "nbformat": 4,
 "nbformat_minor": 5
}
